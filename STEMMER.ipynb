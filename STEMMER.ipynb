{
  "nbformat": 4,
  "nbformat_minor": 0,
  "metadata": {
    "colab": {
      "provenance": [],
      "authorship_tag": "ABX9TyOh+onhRT2xTj/4GXgHT3/+",
      "include_colab_link": true
    },
    "kernelspec": {
      "name": "python3",
      "display_name": "Python 3"
    },
    "language_info": {
      "name": "python"
    }
  },
  "cells": [
    {
      "cell_type": "markdown",
      "metadata": {
        "id": "view-in-github",
        "colab_type": "text"
      },
      "source": [
        "<a href=\"https://colab.research.google.com/github/HarshaUppuluri777/fml/blob/main/STEMMER.ipynb\" target=\"_parent\"><img src=\"https://colab.research.google.com/assets/colab-badge.svg\" alt=\"Open In Colab\"/></a>"
      ]
    },
    {
      "cell_type": "code",
      "execution_count": 28,
      "metadata": {
        "colab": {
          "base_uri": "https://localhost:8080/"
        },
        "id": "Pw1zqsgJ7NGB",
        "outputId": "10e47422-4963-4909-88b3-0d9baebd2d2a"
      },
      "outputs": [
        {
          "output_type": "stream",
          "name": "stderr",
          "text": [
            "[nltk_data] Downloading package punkt to /root/nltk_data...\n",
            "[nltk_data]   Package punkt is already up-to-date!\n"
          ]
        }
      ],
      "source": [
        "import nltk\n",
        "nltk.download('punkt')\n",
        "from nltk.stem import PorterStemmer\n",
        "porter=PorterStemmer()\n",
        "sentence = \"hi i am harsha studying second b.tech in vishnu institute of technology , bhimavaram.\""
      ]
    },
    {
      "cell_type": "code",
      "source": [
        "from nltk.tokenize import word_tokenize,sent_tokenize\n"
      ],
      "metadata": {
        "id": "e-acLEN77p9c"
      },
      "execution_count": 29,
      "outputs": []
    },
    {
      "cell_type": "code",
      "source": [
        "def stemSentence(sentence):\n",
        "  token_words=word_tokenize(sentence)\n",
        "  print(token_words)\n",
        "  stem_sentence=[]\n",
        "  for word in token_words:\n",
        "    stem_sentence.append(porter.stem(word))\n",
        "    stem_sentence.append(\" \")\n",
        "  return \"\".join(stem_sentence)"
      ],
      "metadata": {
        "id": "FMaXHdQo9QIK"
      },
      "execution_count": 32,
      "outputs": []
    },
    {
      "cell_type": "code",
      "source": [
        "x=stemSentence(sentence)\n",
        "print(x)"
      ],
      "metadata": {
        "colab": {
          "base_uri": "https://localhost:8080/"
        },
        "id": "B-1-Hw84-VxK",
        "outputId": "a23eb520-8f22-48a3-dfcc-2cebeb8d460a"
      },
      "execution_count": 31,
      "outputs": [
        {
          "output_type": "stream",
          "name": "stdout",
          "text": [
            "['hi', 'i', 'am', 'harsha', 'studying', 'second', 'b.tech', 'in', 'vishnu', 'institute', 'of', 'technology', ',', 'bhimavaram', '.']\n",
            "hi   i   am   harsha   studi   second   b.tech   in   vishnu   institut   of   technolog   ,   bhimavaram   .  \n"
          ]
        }
      ]
    }
  ]
}